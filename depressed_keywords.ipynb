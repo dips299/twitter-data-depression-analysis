{
 "cells": [
  {
   "cell_type": "code",
   "execution_count": 1,
   "metadata": {},
   "outputs": [
    {
     "name": "stdout",
     "output_type": "stream",
     "text": [
      "['Abnormal', 'Abuse', 'Adolescents', 'Affect', ' Aid', 'Alarm', 'Alienation', 'Alone', 'Anger', 'Anguish', 'Antidepressant', 'Anxiety', 'Anxious', 'Bipolar', 'Blase', 'Blue', 'Brain', 'Clinical', 'Confusion', 'Cruel', 'Cure', 'Death', 'Debilitating', 'Defeated', 'Degree', 'Depressed', 'Depression', 'Despair', 'Detriment', 'Diagnosis', 'Die', 'Discrimination', 'Disease', 'Disinterest', 'Disorder', 'Distracted', 'Down', 'Drugs', 'Esteem', 'Fatigued', 'Fear', 'Feelings', 'Fight', 'Grief', 'Helpless', 'Hurt', 'Hopeless', 'Inability', 'Inactivity', 'Insecure', 'Irritable', 'Isolation', 'Issues', 'Kill', 'Melancholia', 'Mental', 'Mental health', 'Misunderstanding', 'Pain', 'Panic', 'Sadness', 'Scared', 'Separation', 'Stigma', 'Struggle', 'Substance abuse', 'Suffer', 'Suicide', 'Terrified', 'TiredTragic', 'Uncertain', 'Uncomfortable', 'Unfulfilled', 'Withdrawal', 'Worry', 'Worthless']\n"
     ]
    }
   ],
   "source": [
    "# list of crowdsourced depressive words\n",
    "\n",
    "txt = \"Abnormal, Abuse, Adolescents, Affect,  Aid, Alarm, Alienation, Alone, Anger, Anguish, Antidepressant, Anxiety, Anxious, Bipolar, Blase, Blue, Brain, Clinical, Confusion, Cruel, Cure, Death, Debilitating, Defeated, Degree, Depressed, Depression, Despair, Detriment, Diagnosis, Die, Discrimination, Disease, Disinterest, Disorder, Distracted, Down, Drugs, Esteem, Fatigued, Fear, Feelings, Fight, Grief, Helpless, Hurt, Hopeless, Inability, Inactivity, Insecure, Irritable, Isolation, Issues, Kill, Melancholia, Mental, Mental health, Misunderstanding, Pain, Panic, Sadness, Scared, Separation, Stigma, Struggle, Substance abuse, Suffer, Suicide, Terrified, TiredTragic, Uncertain, Uncomfortable, Unfulfilled, Withdrawal, Worry, Worthless\"\n",
    "x = txt.split(\", \")\n",
    "print(x)"
   ]
  },
  {
   "cell_type": "code",
   "execution_count": 2,
   "metadata": {},
   "outputs": [
    {
     "name": "stdout",
     "output_type": "stream",
     "text": [
      "{'obliterate', 'perturb', 'clamber', 'flavor', 'daunt', 'mistaking', 'go_through', 'subject', 'worn_out', 'dice', 'fatigue', 'fear', 'lower', 'cranky', 'breakup', 'terrorise', 'neutrality', 'scramble', 'unequalled', 'wrath', 'wretched', 'horrify', 'croak', 'pop_off', 'step', 'grim', 'unhappiness', 'only', 'point', 'bring_out', 'clinical_depression', 'trauma', 'feel', 'feelings', 'wear_upon', 'scrap', 'veneration', 'bother', 'terrorize', 'pull_down', 'unsure', 'depressive_disorder', 'distracted', 'push_down', 'sorrowfulness', 'blue_sky', 'anxious', 'consternation', 'dispirit', 'slump', 'hurt', 'pervert', 'stain', 'self-annihilation', 'respect', 'helpless', 'entirely', 'emergence', 'prize', 'issue', 'shout', 'detachment', 'skin', 'savage', 'egress', 'brand', 'pain_sensation', 'favoritism', 'tolerate', 'warning_signal', 'vote_down', 'brainpower', 'drop_dead', 'experience', 'bear_on', 'unfulfilled', 'vilification', 'scar', 'worry', 'tactile_sensation', 'anger', 'upshot', 'mental', 'drear', 'exhausted', 'smell', 'affright', 'slimy', 'consume', 'sputter', 'push', 'abnormal', 'fright', 'pulling_out', 'arcdegree', \"cash_in_one's_chips\", 'intuitive_feeling', 'genius', 'cast_down', 'way_out', 'release', 'suicide', 'give_out', 'dread', 'stigma', 'palpate', 'painfulness', 'ill-usage', 'disarray', 'mentality', 'anxiety', 'cut_down', 'academic_degree', 'bruise', 'Amytal', 'feign', 'jade', 'ire', 'misconceive', 'down', 'devour', 'write_out', 'opinion', 'anxiousness', 'cark', 'degree', 'misunderstand', 'head', 'discombobulation', 'sustain', 'occupy', 'annoyance', 'uncertain', 'brook', 'mastered', 'warning_device', 'number', 'wipe_out', 'ill-treatment', 'payoff', 'despicable', 'incertain', 'break', 'debilitating', 'fag', 'peevish', 'hurting', 'publish', 'naughty', 'impression', 'ache', 'defeated', 'despair', 'unsafe', 'go', 'angriness', 'proceeds', 'emerge', 'agitate', 'campaign', 'fagged', 'grief', 'yield', 'value', 'nettlesome', 'mastermind', 'press', 'teenager', 'battle', 'suffer', 'injury', 'fatigued', 'profane', 'changeable', 'blue_angel', 'blue-blooded', 'vexation', 'insult', 'spent', 'spirit', 'alarum', 'puritanic', 'notion', 'inertia', 'down_feather', 'aristocratical', 'make_out', 'progeny', 'worn-out', 'abuse', 'repute', 'detriment', 'worthless', 'terror', 'testy', 'meet', 'weakened', 'alert', 'queasy', 'break_down', 'wear', 'pretend', 'genial', 'prise', 'torment', 'encephalon', 'estrangement', 'feeling', 'diagnosing', 'supply', 'amobarbital_sodium', 'wear_down', 'teen', 'blue', 'stand', 'outcome', 'stamp_out', 'get_down', 'demoralise', 'offend', 'isolation', 'withdrawal', 'adolescent', 'backdown', 'mistake', 'panicked', 'polish', 'dismay', 'topic', 'choler', 'disaffection', 'gamy', 'crusade', 'panic-struck', 'brainiac', 'dying', 'look', 'give-up_the_ghost', 'die_out', 'death', 'bear', 'unrealised', 'spite', 'result', 'last', 'stage', 'event', 'shoot_down', 'spicy', 'downwards', 'misconstrue', 'scare_away', 'curative', 'disorder', 'disquiet', 'expiry', 'destruction', 'blue_air', 'roughshod', 'consequence', 'panic-stricken', 'belt_down', 'kick_the_bucket', 'blueing', 'issuing', 'digest', 'secession', 'appal', 'fight_back', 'low-spirited', 'disinterest', 'muddiness', 'die', 'techy', 'alarm', 'gloomy', 'discomfited', 'down_pat', 'exit', 'killing', 'frighten_away', 'drug_withdrawal', 'conk', 'cruel', 'deject', 'come_out', 'inaction', 'bring_around', 'alarm_clock', 'dog-tired', 'unnatural', 'desperation', 'contend', 'esteem', 'effect', 'sorry', 'fearfulness', 'pall', 'cut', 'withdrawal_method', 'juicy', 'stick_out', 'harm', 'expire', 'racy', 'matter', 'fine-tune', 'heartache', 'scathe', 'Down', 'involve', 'dose', 'economic_crisis', 'put_out', 'kill', 'touch_sensation', 'vote_out', 'publication', 'blueness', 'wear_out', 'gloominess', 'separation', 'Depression', 'psyche', 'misinterpretation', 'dissemble', 'dingy', 'bluish', 'pour_down', 'impact', 'pain_in_the_neck', 'lonely', 'government_issue', 'outwear', 'unparalleled', 'revilement', 'buy_the_farm', 'confusedness', 'unequaled', 'defeat', 'outlet', 'debilitate', 'bolt_down', 'bored', 'patrician', 'snuff_it', 'unaccompanied', 'sadness', 'takings', 'foiled', 'venerate', 'thwarted', 'vicious', 'weary', 'dark', 'secernment', 'excitable', 'anguish', 'vex', 'melancholia', 'nous', 'look_on', 'issuance', 'inactivity', 'tetchy', 'misapprehension', 'touch', 'favouritism', 'misapprehend', 'unworthy', 'interval', 'injure', 'natural_depression', 'lugubriousness', 'level', 'find', 'unfitness', 'go_bad', 'struggle', 'demise', 'abide', 'headache', 'distrait', 'defend', 'sorrow', 'brokenheartedness', 'inactiveness', 'grade', 'take', 'antidepressant_drug', 'disorderliness', 'tire_out', 'finger', 'refine', 'awe', 'putting_to_death', 'painful_sensation', 'knock_down', 'cure', 'dreary', 'ail', 'stomach', 'shin', 'confusion', 'uncomfortable', 'disease', 'exclusively', 'disconsolate', 'wit', 'support', 'Einstein', 'demoralize', 'regard_as', 'tire', 'dispirited', 'fell', 'fag_out', 'wound', 'solitary', 'wounded', 'learning_ability', 'misunderstanding', 'blueish', 'go_forth', 'strike', 'fractious', 'downhearted', 'ira', 'dash', 'downwardly', 'uneasy', 'decease', 'distress', 'alienation', 'conflict', 'dismal', 'lost', 'scare_off', 'felo-de-se', 'perish', 'unrealized', 'heal', 'low', 'unsettled', 'frustrated', 'solo', 'down_in_the_mouth', 'combat', 'tone', 'coitus_interruptus', 'conk_out', 'terrify', 'worldly', 'onanism', 'depressed', 'unhinge', 'choke', 'infliction', 'brain', 'lone', 'climb-down', 'ill-treat', 'aristocratic', 'terrified', 'pass', 'insecure', 'remedy', 'ugly', 'heartbreak', 'legal_separation', 'incapacitated', 'washed-out', 'misinterpret', 'toss_off', 'engagement', 'depression', 'blackguard', 'fail', 'smart', 'scratchy', 'frighten', 'depress', 'get_the_better_of', 'pass_away', 'botheration', 'reverence', 'John_L._H._Down', 'touch_on', 'care', 'pain_in_the_ass', 'nervous', 'become_flat', 'mark', 'offspring', 'drab', 'fight', 'have', 'damage', 'admiration', 'oppose', 'tactual_sensation', 'mental_capacity', 'overcome', 'do_drugs', 'pit', 'mental_confusion', 'distract', 'nuisance', 'deflect', 'impress', 'be_amiss', 'unsealed', 'Death', 'maltreatment', 'frightened', 'competitiveness', 'end', 'press_down', 'solely', 'pop', 'panic', 'alarm_system', 'maltreat', 'ill-use', 'peckish', 'torture', 'inability', 'suffering', 'pock', 'clapperclaw', 'Great_Depression', 'stripling', 'gamey', 'affect', 'discrimination', 'drain', 'downward', 'fight_down', 'see_red', 'enfeeble', 'come_forth', 'contumely', 'move', 'frighten_off', 'military_issue', 'lose', 'played_out', 'regard', 'unique', 'appall', 'unquiet', 'antidepressant', 'diagnosis', 'take_to_be', 'gentle', 'petulant', 'pile', 'pain', 'pettish', 'downcast', 'get', 'bipolar', 'endure', 'look_upon', 'disappointed', 'drink_down', 'trouble', 'hopeless', 'therapeutic', 'shinny', 'blue_devil', 'irritable', 'return', 'clinical', 'self-destruction', 'vile', 'closing_off', 'blase', 'misuse', 'alone', 'revere', 'scare', 'imprint', 'panicky', 'belief', 'fighting', 'land', 'sense', 'bluing', 'concern', 'put_up', 'upset', 'interest', 'barbarous', 'blasphemous', 'mind', 'mix-up', 'drug', 'scared', 'flavour', 'brutal', 'mistreat', 'sham', 'wild_blue_yonder', 'think_of', 'puritanical', 'give_way', 'bear_upon', 'risque'}\n"
     ]
    }
   ],
   "source": [
    "# to obtain set of all possible variants/ synonyms of the words in the list\n",
    "from nltk.corpus import wordnet\n",
    "synonyms = []\n",
    "antonyms = []\n",
    "for i in x:\n",
    "    for syn in wordnet.synsets(i):\n",
    "        for l in syn.lemmas():\n",
    "            synonyms.append(l.name())\n",
    "            if l.antonyms():\n",
    "                 antonyms.append(l.antonyms()[0].name())\n",
    "\n",
    "print(set(synonyms))\n"
   ]
  }
 ],
 "metadata": {
  "kernelspec": {
   "display_name": "Python 3",
   "language": "python",
   "name": "python3"
  },
  "language_info": {
   "codemirror_mode": {
    "name": "ipython",
    "version": 3
   },
   "file_extension": ".py",
   "mimetype": "text/x-python",
   "name": "python",
   "nbconvert_exporter": "python",
   "pygments_lexer": "ipython3",
   "version": "3.7.3"
  }
 },
 "nbformat": 4,
 "nbformat_minor": 2
}
